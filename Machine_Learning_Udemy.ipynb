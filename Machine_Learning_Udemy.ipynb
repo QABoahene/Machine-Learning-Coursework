{
 "metadata": {
  "language_info": {
   "codemirror_mode": {
    "name": "ipython",
    "version": 3
   },
   "file_extension": ".py",
   "mimetype": "text/x-python",
   "name": "python",
   "nbconvert_exporter": "python",
   "pygments_lexer": "ipython3",
   "version": "3.7.3-final"
  },
  "orig_nbformat": 2,
  "kernelspec": {
   "name": "python3",
   "display_name": "Python 3.7.3 64-bit (conda)",
   "metadata": {
    "interpreter": {
     "hash": "a546926453268da43487979b71a1c6ce1a74d4b447081a194f9081b9f23a024f"
    }
   }
  }
 },
 "nbformat": 4,
 "nbformat_minor": 2,
 "cells": [
  {
   "cell_type": "code",
   "execution_count": 1,
   "metadata": {},
   "outputs": [],
   "source": [
    "# Importing modules needed\n",
    "import pandas as pd \n",
    "import numpy as np \n",
    "import matplotlib.pyplot as plt"
   ]
  },
  {
   "cell_type": "code",
   "execution_count": 45,
   "metadata": {},
   "outputs": [
    {
     "output_type": "execute_result",
     "data": {
      "text/plain": [
       "    country  year     sex          age  suicides_no  population  \\\n",
       "0   Albania  1987    male  15-24 years           21      312900   \n",
       "1   Albania  1987    male  35-54 years           16      308000   \n",
       "2   Albania  1987  female  15-24 years           14      289700   \n",
       "3   Albania  1987    male    75+ years            1       21800   \n",
       "4   Albania  1987    male  25-34 years            9      274300   \n",
       "5   Albania  1987  female    75+ years            1       35600   \n",
       "6   Albania  1987  female  35-54 years            6      278800   \n",
       "7   Albania  1987  female  25-34 years            4      257200   \n",
       "8   Albania  1987    male  55-74 years            1      137500   \n",
       "9   Albania  1987  female   5-14 years            0      311000   \n",
       "10  Albania  1987  female  55-74 years            0      144600   \n",
       "11  Albania  1987    male   5-14 years            0      338200   \n",
       "12  Albania  1988  female    75+ years            2       36400   \n",
       "13  Albania  1988    male  15-24 years           17      319200   \n",
       "14  Albania  1988    male    75+ years            1       22300   \n",
       "15  Albania  1988    male  35-54 years           14      314100   \n",
       "16  Albania  1988    male  55-74 years            4      140200   \n",
       "17  Albania  1988  female  15-24 years            8      295600   \n",
       "18  Albania  1988  female  55-74 years            3      147500   \n",
       "19  Albania  1988  female  25-34 years            5      262400   \n",
       "\n",
       "    suicides/100k pop country-year  HDI for year  gdp_for_year ($)   \\\n",
       "0                6.71  Albania1987           NaN      2,156,624,900   \n",
       "1                5.19  Albania1987           NaN      2,156,624,900   \n",
       "2                4.83  Albania1987           NaN      2,156,624,900   \n",
       "3                4.59  Albania1987           NaN      2,156,624,900   \n",
       "4                3.28  Albania1987           NaN      2,156,624,900   \n",
       "5                2.81  Albania1987           NaN      2,156,624,900   \n",
       "6                2.15  Albania1987           NaN      2,156,624,900   \n",
       "7                1.56  Albania1987           NaN      2,156,624,900   \n",
       "8                0.73  Albania1987           NaN      2,156,624,900   \n",
       "9                0.00  Albania1987           NaN      2,156,624,900   \n",
       "10               0.00  Albania1987           NaN      2,156,624,900   \n",
       "11               0.00  Albania1987           NaN      2,156,624,900   \n",
       "12               5.49  Albania1988           NaN      2,126,000,000   \n",
       "13               5.33  Albania1988           NaN      2,126,000,000   \n",
       "14               4.48  Albania1988           NaN      2,126,000,000   \n",
       "15               4.46  Albania1988           NaN      2,126,000,000   \n",
       "16               2.85  Albania1988           NaN      2,126,000,000   \n",
       "17               2.71  Albania1988           NaN      2,126,000,000   \n",
       "18               2.03  Albania1988           NaN      2,126,000,000   \n",
       "19               1.91  Albania1988           NaN      2,126,000,000   \n",
       "\n",
       "    gdp_per_capita ($)       generation  \n",
       "0                  796     Generation X  \n",
       "1                  796           Silent  \n",
       "2                  796     Generation X  \n",
       "3                  796  G.I. Generation  \n",
       "4                  796          Boomers  \n",
       "5                  796  G.I. Generation  \n",
       "6                  796           Silent  \n",
       "7                  796          Boomers  \n",
       "8                  796  G.I. Generation  \n",
       "9                  796     Generation X  \n",
       "10                 796  G.I. Generation  \n",
       "11                 796     Generation X  \n",
       "12                 769  G.I. Generation  \n",
       "13                 769     Generation X  \n",
       "14                 769  G.I. Generation  \n",
       "15                 769           Silent  \n",
       "16                 769  G.I. Generation  \n",
       "17                 769     Generation X  \n",
       "18                 769  G.I. Generation  \n",
       "19                 769          Boomers  "
      ],
      "text/html": "<div>\n<style scoped>\n    .dataframe tbody tr th:only-of-type {\n        vertical-align: middle;\n    }\n\n    .dataframe tbody tr th {\n        vertical-align: top;\n    }\n\n    .dataframe thead th {\n        text-align: right;\n    }\n</style>\n<table border=\"1\" class=\"dataframe\">\n  <thead>\n    <tr style=\"text-align: right;\">\n      <th></th>\n      <th>country</th>\n      <th>year</th>\n      <th>sex</th>\n      <th>age</th>\n      <th>suicides_no</th>\n      <th>population</th>\n      <th>suicides/100k pop</th>\n      <th>country-year</th>\n      <th>HDI for year</th>\n      <th>gdp_for_year ($)</th>\n      <th>gdp_per_capita ($)</th>\n      <th>generation</th>\n    </tr>\n  </thead>\n  <tbody>\n    <tr>\n      <th>0</th>\n      <td>Albania</td>\n      <td>1987</td>\n      <td>male</td>\n      <td>15-24 years</td>\n      <td>21</td>\n      <td>312900</td>\n      <td>6.71</td>\n      <td>Albania1987</td>\n      <td>NaN</td>\n      <td>2,156,624,900</td>\n      <td>796</td>\n      <td>Generation X</td>\n    </tr>\n    <tr>\n      <th>1</th>\n      <td>Albania</td>\n      <td>1987</td>\n      <td>male</td>\n      <td>35-54 years</td>\n      <td>16</td>\n      <td>308000</td>\n      <td>5.19</td>\n      <td>Albania1987</td>\n      <td>NaN</td>\n      <td>2,156,624,900</td>\n      <td>796</td>\n      <td>Silent</td>\n    </tr>\n    <tr>\n      <th>2</th>\n      <td>Albania</td>\n      <td>1987</td>\n      <td>female</td>\n      <td>15-24 years</td>\n      <td>14</td>\n      <td>289700</td>\n      <td>4.83</td>\n      <td>Albania1987</td>\n      <td>NaN</td>\n      <td>2,156,624,900</td>\n      <td>796</td>\n      <td>Generation X</td>\n    </tr>\n    <tr>\n      <th>3</th>\n      <td>Albania</td>\n      <td>1987</td>\n      <td>male</td>\n      <td>75+ years</td>\n      <td>1</td>\n      <td>21800</td>\n      <td>4.59</td>\n      <td>Albania1987</td>\n      <td>NaN</td>\n      <td>2,156,624,900</td>\n      <td>796</td>\n      <td>G.I. Generation</td>\n    </tr>\n    <tr>\n      <th>4</th>\n      <td>Albania</td>\n      <td>1987</td>\n      <td>male</td>\n      <td>25-34 years</td>\n      <td>9</td>\n      <td>274300</td>\n      <td>3.28</td>\n      <td>Albania1987</td>\n      <td>NaN</td>\n      <td>2,156,624,900</td>\n      <td>796</td>\n      <td>Boomers</td>\n    </tr>\n    <tr>\n      <th>5</th>\n      <td>Albania</td>\n      <td>1987</td>\n      <td>female</td>\n      <td>75+ years</td>\n      <td>1</td>\n      <td>35600</td>\n      <td>2.81</td>\n      <td>Albania1987</td>\n      <td>NaN</td>\n      <td>2,156,624,900</td>\n      <td>796</td>\n      <td>G.I. Generation</td>\n    </tr>\n    <tr>\n      <th>6</th>\n      <td>Albania</td>\n      <td>1987</td>\n      <td>female</td>\n      <td>35-54 years</td>\n      <td>6</td>\n      <td>278800</td>\n      <td>2.15</td>\n      <td>Albania1987</td>\n      <td>NaN</td>\n      <td>2,156,624,900</td>\n      <td>796</td>\n      <td>Silent</td>\n    </tr>\n    <tr>\n      <th>7</th>\n      <td>Albania</td>\n      <td>1987</td>\n      <td>female</td>\n      <td>25-34 years</td>\n      <td>4</td>\n      <td>257200</td>\n      <td>1.56</td>\n      <td>Albania1987</td>\n      <td>NaN</td>\n      <td>2,156,624,900</td>\n      <td>796</td>\n      <td>Boomers</td>\n    </tr>\n    <tr>\n      <th>8</th>\n      <td>Albania</td>\n      <td>1987</td>\n      <td>male</td>\n      <td>55-74 years</td>\n      <td>1</td>\n      <td>137500</td>\n      <td>0.73</td>\n      <td>Albania1987</td>\n      <td>NaN</td>\n      <td>2,156,624,900</td>\n      <td>796</td>\n      <td>G.I. Generation</td>\n    </tr>\n    <tr>\n      <th>9</th>\n      <td>Albania</td>\n      <td>1987</td>\n      <td>female</td>\n      <td>5-14 years</td>\n      <td>0</td>\n      <td>311000</td>\n      <td>0.00</td>\n      <td>Albania1987</td>\n      <td>NaN</td>\n      <td>2,156,624,900</td>\n      <td>796</td>\n      <td>Generation X</td>\n    </tr>\n    <tr>\n      <th>10</th>\n      <td>Albania</td>\n      <td>1987</td>\n      <td>female</td>\n      <td>55-74 years</td>\n      <td>0</td>\n      <td>144600</td>\n      <td>0.00</td>\n      <td>Albania1987</td>\n      <td>NaN</td>\n      <td>2,156,624,900</td>\n      <td>796</td>\n      <td>G.I. Generation</td>\n    </tr>\n    <tr>\n      <th>11</th>\n      <td>Albania</td>\n      <td>1987</td>\n      <td>male</td>\n      <td>5-14 years</td>\n      <td>0</td>\n      <td>338200</td>\n      <td>0.00</td>\n      <td>Albania1987</td>\n      <td>NaN</td>\n      <td>2,156,624,900</td>\n      <td>796</td>\n      <td>Generation X</td>\n    </tr>\n    <tr>\n      <th>12</th>\n      <td>Albania</td>\n      <td>1988</td>\n      <td>female</td>\n      <td>75+ years</td>\n      <td>2</td>\n      <td>36400</td>\n      <td>5.49</td>\n      <td>Albania1988</td>\n      <td>NaN</td>\n      <td>2,126,000,000</td>\n      <td>769</td>\n      <td>G.I. Generation</td>\n    </tr>\n    <tr>\n      <th>13</th>\n      <td>Albania</td>\n      <td>1988</td>\n      <td>male</td>\n      <td>15-24 years</td>\n      <td>17</td>\n      <td>319200</td>\n      <td>5.33</td>\n      <td>Albania1988</td>\n      <td>NaN</td>\n      <td>2,126,000,000</td>\n      <td>769</td>\n      <td>Generation X</td>\n    </tr>\n    <tr>\n      <th>14</th>\n      <td>Albania</td>\n      <td>1988</td>\n      <td>male</td>\n      <td>75+ years</td>\n      <td>1</td>\n      <td>22300</td>\n      <td>4.48</td>\n      <td>Albania1988</td>\n      <td>NaN</td>\n      <td>2,126,000,000</td>\n      <td>769</td>\n      <td>G.I. Generation</td>\n    </tr>\n    <tr>\n      <th>15</th>\n      <td>Albania</td>\n      <td>1988</td>\n      <td>male</td>\n      <td>35-54 years</td>\n      <td>14</td>\n      <td>314100</td>\n      <td>4.46</td>\n      <td>Albania1988</td>\n      <td>NaN</td>\n      <td>2,126,000,000</td>\n      <td>769</td>\n      <td>Silent</td>\n    </tr>\n    <tr>\n      <th>16</th>\n      <td>Albania</td>\n      <td>1988</td>\n      <td>male</td>\n      <td>55-74 years</td>\n      <td>4</td>\n      <td>140200</td>\n      <td>2.85</td>\n      <td>Albania1988</td>\n      <td>NaN</td>\n      <td>2,126,000,000</td>\n      <td>769</td>\n      <td>G.I. Generation</td>\n    </tr>\n    <tr>\n      <th>17</th>\n      <td>Albania</td>\n      <td>1988</td>\n      <td>female</td>\n      <td>15-24 years</td>\n      <td>8</td>\n      <td>295600</td>\n      <td>2.71</td>\n      <td>Albania1988</td>\n      <td>NaN</td>\n      <td>2,126,000,000</td>\n      <td>769</td>\n      <td>Generation X</td>\n    </tr>\n    <tr>\n      <th>18</th>\n      <td>Albania</td>\n      <td>1988</td>\n      <td>female</td>\n      <td>55-74 years</td>\n      <td>3</td>\n      <td>147500</td>\n      <td>2.03</td>\n      <td>Albania1988</td>\n      <td>NaN</td>\n      <td>2,126,000,000</td>\n      <td>769</td>\n      <td>G.I. Generation</td>\n    </tr>\n    <tr>\n      <th>19</th>\n      <td>Albania</td>\n      <td>1988</td>\n      <td>female</td>\n      <td>25-34 years</td>\n      <td>5</td>\n      <td>262400</td>\n      <td>1.91</td>\n      <td>Albania1988</td>\n      <td>NaN</td>\n      <td>2,126,000,000</td>\n      <td>769</td>\n      <td>Boomers</td>\n    </tr>\n  </tbody>\n</table>\n</div>"
     },
     "metadata": {},
     "execution_count": 45
    }
   ],
   "source": [
    "data = pd.read_csv('master.csv')\n",
    "data.head(20)"
   ]
  },
  {
   "cell_type": "code",
   "execution_count": 4,
   "metadata": {},
   "outputs": [
    {
     "output_type": "stream",
     "name": "stdout",
     "text": [
      "<class 'pandas.core.frame.DataFrame'>\nRangeIndex: 27820 entries, 0 to 27819\nData columns (total 12 columns):\n #   Column              Non-Null Count  Dtype  \n---  ------              --------------  -----  \n 0   country             27820 non-null  object \n 1   year                27820 non-null  int64  \n 2   sex                 27820 non-null  object \n 3   age                 27820 non-null  object \n 4   suicides_no         27820 non-null  int64  \n 5   population          27820 non-null  int64  \n 6   suicides/100k pop   27820 non-null  float64\n 7   country-year        27820 non-null  object \n 8   HDI for year        8364 non-null   float64\n 9    gdp_for_year ($)   27820 non-null  object \n 10  gdp_per_capita ($)  27820 non-null  int64  \n 11  generation          27820 non-null  object \ndtypes: float64(2), int64(4), object(6)\nmemory usage: 2.5+ MB\n"
     ]
    }
   ],
   "source": [
    "data.info()"
   ]
  },
  {
   "source": [
    "## Taking care of missing data"
   ],
   "cell_type": "markdown",
   "metadata": {}
  },
  {
   "cell_type": "code",
   "execution_count": 21,
   "metadata": {},
   "outputs": [],
   "source": [
    "from sklearn.impute import SimpleImputer\n",
    "imputer = SimpleImputer(missing_values = np.nan, strategy = 'mean')\n",
    "imputer.fit(np.array(data['HDI for year']).reshape(-1, 1))\n",
    "data['HDI for year'] = imputer.transform(np.array(data['HDI for year']).reshape(-1, 1))"
   ]
  },
  {
   "source": [
    "## Encoding Categorical Data"
   ],
   "cell_type": "markdown",
   "metadata": {}
  },
  {
   "cell_type": "code",
   "execution_count": 41,
   "metadata": {},
   "outputs": [],
   "source": [
    "from sklearn.compose import ColumnTransformer\n",
    "from sklearn.preprocessing import OneHotEncoder\n",
    "ct = ColumnTransformer(transformers = [('encoder', OneHotEncoder(), [11])], remainder = 'passthrough')\n",
    "new_data = np.array(ct.fit_transform(data))"
   ]
  },
  {
   "cell_type": "code",
   "execution_count": 42,
   "metadata": {},
   "outputs": [
    {
     "output_type": "execute_result",
     "data": {
      "text/plain": [
       "array([0.0, 0.0, 1.0, 0.0, 0.0, 0.0, 'Albania', 1987, 'male',\n",
       "       '15-24 years', 21, 312900, 6.71, 'Albania1987', nan,\n",
       "       '2,156,624,900', 796], dtype=object)"
      ]
     },
     "metadata": {},
     "execution_count": 42
    }
   ],
   "source": [
    "new_data[0]"
   ]
  },
  {
   "cell_type": "code",
   "execution_count": 43,
   "metadata": {},
   "outputs": [],
   "source": [
    "from sklearn.preprocessing import LabelEncoder\n",
    "le = LabelEncoder()\n",
    "data['sex'] = le.fit_transform(data['sex'])"
   ]
  },
  {
   "cell_type": "code",
   "execution_count": 44,
   "metadata": {},
   "outputs": [
    {
     "output_type": "execute_result",
     "data": {
      "text/plain": [
       "          country  year  sex          age  suicides_no  population  \\\n",
       "0         Albania  1987    1  15-24 years           21      312900   \n",
       "1         Albania  1987    1  35-54 years           16      308000   \n",
       "2         Albania  1987    0  15-24 years           14      289700   \n",
       "3         Albania  1987    1    75+ years            1       21800   \n",
       "4         Albania  1987    1  25-34 years            9      274300   \n",
       "...           ...   ...  ...          ...          ...         ...   \n",
       "27815  Uzbekistan  2014    0  35-54 years          107     3620833   \n",
       "27816  Uzbekistan  2014    0    75+ years            9      348465   \n",
       "27817  Uzbekistan  2014    1   5-14 years           60     2762158   \n",
       "27818  Uzbekistan  2014    0   5-14 years           44     2631600   \n",
       "27819  Uzbekistan  2014    0  55-74 years           21     1438935   \n",
       "\n",
       "       suicides/100k pop    country-year  HDI for year  gdp_for_year ($)   \\\n",
       "0                   6.71     Albania1987           NaN      2,156,624,900   \n",
       "1                   5.19     Albania1987           NaN      2,156,624,900   \n",
       "2                   4.83     Albania1987           NaN      2,156,624,900   \n",
       "3                   4.59     Albania1987           NaN      2,156,624,900   \n",
       "4                   3.28     Albania1987           NaN      2,156,624,900   \n",
       "...                  ...             ...           ...                ...   \n",
       "27815               2.96  Uzbekistan2014         0.675     63,067,077,179   \n",
       "27816               2.58  Uzbekistan2014         0.675     63,067,077,179   \n",
       "27817               2.17  Uzbekistan2014         0.675     63,067,077,179   \n",
       "27818               1.67  Uzbekistan2014         0.675     63,067,077,179   \n",
       "27819               1.46  Uzbekistan2014         0.675     63,067,077,179   \n",
       "\n",
       "       gdp_per_capita ($)       generation  \n",
       "0                     796     Generation X  \n",
       "1                     796           Silent  \n",
       "2                     796     Generation X  \n",
       "3                     796  G.I. Generation  \n",
       "4                     796          Boomers  \n",
       "...                   ...              ...  \n",
       "27815                2309     Generation X  \n",
       "27816                2309           Silent  \n",
       "27817                2309     Generation Z  \n",
       "27818                2309     Generation Z  \n",
       "27819                2309          Boomers  \n",
       "\n",
       "[27820 rows x 12 columns]"
      ],
      "text/html": "<div>\n<style scoped>\n    .dataframe tbody tr th:only-of-type {\n        vertical-align: middle;\n    }\n\n    .dataframe tbody tr th {\n        vertical-align: top;\n    }\n\n    .dataframe thead th {\n        text-align: right;\n    }\n</style>\n<table border=\"1\" class=\"dataframe\">\n  <thead>\n    <tr style=\"text-align: right;\">\n      <th></th>\n      <th>country</th>\n      <th>year</th>\n      <th>sex</th>\n      <th>age</th>\n      <th>suicides_no</th>\n      <th>population</th>\n      <th>suicides/100k pop</th>\n      <th>country-year</th>\n      <th>HDI for year</th>\n      <th>gdp_for_year ($)</th>\n      <th>gdp_per_capita ($)</th>\n      <th>generation</th>\n    </tr>\n  </thead>\n  <tbody>\n    <tr>\n      <th>0</th>\n      <td>Albania</td>\n      <td>1987</td>\n      <td>1</td>\n      <td>15-24 years</td>\n      <td>21</td>\n      <td>312900</td>\n      <td>6.71</td>\n      <td>Albania1987</td>\n      <td>NaN</td>\n      <td>2,156,624,900</td>\n      <td>796</td>\n      <td>Generation X</td>\n    </tr>\n    <tr>\n      <th>1</th>\n      <td>Albania</td>\n      <td>1987</td>\n      <td>1</td>\n      <td>35-54 years</td>\n      <td>16</td>\n      <td>308000</td>\n      <td>5.19</td>\n      <td>Albania1987</td>\n      <td>NaN</td>\n      <td>2,156,624,900</td>\n      <td>796</td>\n      <td>Silent</td>\n    </tr>\n    <tr>\n      <th>2</th>\n      <td>Albania</td>\n      <td>1987</td>\n      <td>0</td>\n      <td>15-24 years</td>\n      <td>14</td>\n      <td>289700</td>\n      <td>4.83</td>\n      <td>Albania1987</td>\n      <td>NaN</td>\n      <td>2,156,624,900</td>\n      <td>796</td>\n      <td>Generation X</td>\n    </tr>\n    <tr>\n      <th>3</th>\n      <td>Albania</td>\n      <td>1987</td>\n      <td>1</td>\n      <td>75+ years</td>\n      <td>1</td>\n      <td>21800</td>\n      <td>4.59</td>\n      <td>Albania1987</td>\n      <td>NaN</td>\n      <td>2,156,624,900</td>\n      <td>796</td>\n      <td>G.I. Generation</td>\n    </tr>\n    <tr>\n      <th>4</th>\n      <td>Albania</td>\n      <td>1987</td>\n      <td>1</td>\n      <td>25-34 years</td>\n      <td>9</td>\n      <td>274300</td>\n      <td>3.28</td>\n      <td>Albania1987</td>\n      <td>NaN</td>\n      <td>2,156,624,900</td>\n      <td>796</td>\n      <td>Boomers</td>\n    </tr>\n    <tr>\n      <th>...</th>\n      <td>...</td>\n      <td>...</td>\n      <td>...</td>\n      <td>...</td>\n      <td>...</td>\n      <td>...</td>\n      <td>...</td>\n      <td>...</td>\n      <td>...</td>\n      <td>...</td>\n      <td>...</td>\n      <td>...</td>\n    </tr>\n    <tr>\n      <th>27815</th>\n      <td>Uzbekistan</td>\n      <td>2014</td>\n      <td>0</td>\n      <td>35-54 years</td>\n      <td>107</td>\n      <td>3620833</td>\n      <td>2.96</td>\n      <td>Uzbekistan2014</td>\n      <td>0.675</td>\n      <td>63,067,077,179</td>\n      <td>2309</td>\n      <td>Generation X</td>\n    </tr>\n    <tr>\n      <th>27816</th>\n      <td>Uzbekistan</td>\n      <td>2014</td>\n      <td>0</td>\n      <td>75+ years</td>\n      <td>9</td>\n      <td>348465</td>\n      <td>2.58</td>\n      <td>Uzbekistan2014</td>\n      <td>0.675</td>\n      <td>63,067,077,179</td>\n      <td>2309</td>\n      <td>Silent</td>\n    </tr>\n    <tr>\n      <th>27817</th>\n      <td>Uzbekistan</td>\n      <td>2014</td>\n      <td>1</td>\n      <td>5-14 years</td>\n      <td>60</td>\n      <td>2762158</td>\n      <td>2.17</td>\n      <td>Uzbekistan2014</td>\n      <td>0.675</td>\n      <td>63,067,077,179</td>\n      <td>2309</td>\n      <td>Generation Z</td>\n    </tr>\n    <tr>\n      <th>27818</th>\n      <td>Uzbekistan</td>\n      <td>2014</td>\n      <td>0</td>\n      <td>5-14 years</td>\n      <td>44</td>\n      <td>2631600</td>\n      <td>1.67</td>\n      <td>Uzbekistan2014</td>\n      <td>0.675</td>\n      <td>63,067,077,179</td>\n      <td>2309</td>\n      <td>Generation Z</td>\n    </tr>\n    <tr>\n      <th>27819</th>\n      <td>Uzbekistan</td>\n      <td>2014</td>\n      <td>0</td>\n      <td>55-74 years</td>\n      <td>21</td>\n      <td>1438935</td>\n      <td>1.46</td>\n      <td>Uzbekistan2014</td>\n      <td>0.675</td>\n      <td>63,067,077,179</td>\n      <td>2309</td>\n      <td>Boomers</td>\n    </tr>\n  </tbody>\n</table>\n<p>27820 rows × 12 columns</p>\n</div>"
     },
     "metadata": {},
     "execution_count": 44
    }
   ],
   "source": [
    "data"
   ]
  },
  {
   "source": [
    "## Splitting data into train and test set\n",
    "\n",
    "Apply feature scaling after splitting the training and test set.\n",
    "Why?: The test set is supposed to be a brand new set which the model is evaluated on. They are not supposed to be used in the training. If feature scaling is applied before the split will cause some informational leakage on the test set(This is supposed to be new information for the evaluation). "
   ],
   "cell_type": "markdown",
   "metadata": {}
  },
  {
   "cell_type": "code",
   "execution_count": 48,
   "metadata": {},
   "outputs": [],
   "source": [
    "from sklearn.model_selection import train_test_split\n",
    "X_train, X_test, y_train, y_test  = train_test_split(X, y, test_size = 0.2, random_state = 1)"
   ]
  }
 ]
}